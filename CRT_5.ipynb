{
  "nbformat": 4,
  "nbformat_minor": 0,
  "metadata": {
    "colab": {
      "provenance": []
    },
    "kernelspec": {
      "name": "python3",
      "display_name": "Python 3"
    },
    "language_info": {
      "name": "python"
    }
  },
  "cells": [
    {
      "cell_type": "code",
      "execution_count": 1,
      "metadata": {
        "colab": {
          "base_uri": "https://localhost:8080/"
        },
        "id": "B5sOshbIuFdu",
        "outputId": "d0f119d7-cfcb-45b1-9dbf-3deeff432cd6"
      },
      "outputs": [
        {
          "output_type": "stream",
          "name": "stdout",
          "text": [
            "Enter your username: admin\n",
            "Enter your password: 12345678\n",
            "Login successful!\n"
          ]
        }
      ],
      "source": [
        "correct_username = \"admin\"\n",
        "correct_password = \"12345678\"\n",
        "\n",
        "def validate_credentials(username, password):\n",
        "  \"\"\"\n",
        "  Validates the provided username and password against the correct credentials.\n",
        "\n",
        "  Args:\n",
        "      username: The username entered by the user.\n",
        "      password: The password entered by the user.\n",
        "\n",
        "  Returns:\n",
        "      True if the username and password are correct, False otherwise.\n",
        "  \"\"\"\n",
        "  return username == correct_username and password == correct_password\n",
        "\n",
        "while True:\n",
        "  username = input(\"Enter your username: \")\n",
        "  password = input(\"Enter your password: \")\n",
        "\n",
        "  if validate_credentials(username, password):\n",
        "    print(\"Login successful!\")\n",
        "    break\n",
        "  else:\n",
        "    print(\"Invalid username or password. Please try again.\")"
      ]
    },
    {
      "cell_type": "code",
      "source": [],
      "metadata": {
        "id": "FTpHrBmeuNRk"
      },
      "execution_count": null,
      "outputs": []
    }
  ]
}