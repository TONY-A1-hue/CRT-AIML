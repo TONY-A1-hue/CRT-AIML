{
 "cells": [
  {
   "cell_type": "code",
   "execution_count": 1,
   "id": "e5b83d31-b57b-42ae-8b09-3b496416f238",
   "metadata": {},
   "outputs": [
    {
     "name": "stdout",
     "output_type": "stream",
     "text": [
      "Named Entities and Their Types:\n",
      "Barack Obama (PERSON)\n",
      "August 4, 1961 (DATE)\n",
      "Honolulu (GPE)\n",
      "Hawaii (GPE)\n",
      "44th (ORDINAL)\n",
      "the United States (GPE)\n",
      "2009 (DATE)\n",
      "Apple Inc. (ORG)\n",
      "Cupertino (GPE)\n",
      "California (GPE)\n"
     ]
    }
   ],
   "source": [
    "import spacy\n",
    "\n",
    "nlp = spacy.load(\"en_core_web_sm\")\n",
    "\n",
    "def perform_ner(text):\n",
    "    doc = nlp(text)\n",
    "    print(\"Named Entities and Their Types:\")\n",
    "    for ent in doc.ents:\n",
    "        print(f\"{ent.text} ({ent.label_})\")\n",
    "\n",
    "text = \"\"\"\n",
    "Barack Obama was born on August 4, 1961, in Honolulu, Hawaii. \n",
    "He served as the 44th president of the United States from 2009 to 2017. \n",
    "Apple Inc., headquartered in Cupertino, California, is a major technology company.\n",
    "\"\"\"\n",
    "\n",
    "perform_ner(text)"
   ]
  },
  {
   "cell_type": "code",
   "execution_count": null,
   "id": "7c178dc2-804e-4eff-925c-f9dd910a3ad2",
   "metadata": {},
   "outputs": [],
   "source": []
  }
 ],
 "metadata": {
  "kernelspec": {
   "display_name": "Python 3 (ipykernel)",
   "language": "python",
   "name": "python3"
  },
  "language_info": {
   "codemirror_mode": {
    "name": "ipython",
    "version": 3
   },
   "file_extension": ".py",
   "mimetype": "text/x-python",
   "name": "python",
   "nbconvert_exporter": "python",
   "pygments_lexer": "ipython3",
   "version": "3.12.7"
  }
 },
 "nbformat": 4,
 "nbformat_minor": 5
}
