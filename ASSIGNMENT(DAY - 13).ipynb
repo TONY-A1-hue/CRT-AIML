{
 "cells": [
  {
   "cell_type": "code",
   "execution_count": 1,
   "id": "69f0f3a7-f0e3-48ce-b75e-a4c5607fb096",
   "metadata": {},
   "outputs": [
    {
     "name": "stdout",
     "output_type": "stream",
     "text": [
      "Original Text: Hello, World! Welcome to NLP 101.\n",
      "Cleaned Text: hello world welcome to nlp 101\n",
      "The history saving thread hit an unexpected error (OperationalError('attempt to write a readonly database')).History will not be written to the database.\n"
     ]
    }
   ],
   "source": [
    "import re\n",
    "\n",
    "def clean_text(text):\n",
    "    \"\"\"\n",
    "    Cleans the given text by removing special characters and converting it to lowercase.\n",
    "    \n",
    "    Args:\n",
    "    text (str): The input text to be cleaned.\n",
    "    \n",
    "    Returns:\n",
    "    str: The cleaned text.\n",
    "    \"\"\"\n",
    "    \n",
    "    cleaned_text = re.sub(r'[^a-zA-Z0-9\\s]', '', text)\n",
    "    cleaned_text = cleaned_text.lower()\n",
    "    return cleaned_text\n",
    "\n",
    "input_text = \"Hello, World! Welcome to NLP 101.\"\n",
    "result = clean_text(input_text)\n",
    "print(\"Original Text:\", input_text)\n",
    "print(\"Cleaned Text:\", result)"
   ]
  },
  {
   "cell_type": "code",
   "execution_count": null,
   "id": "53ef61b7-28ab-4607-8f71-82be42881276",
   "metadata": {},
   "outputs": [],
   "source": []
  }
 ],
 "metadata": {
  "kernelspec": {
   "display_name": "Python 3 (ipykernel)",
   "language": "python",
   "name": "python3"
  },
  "language_info": {
   "codemirror_mode": {
    "name": "ipython",
    "version": 3
   },
   "file_extension": ".py",
   "mimetype": "text/x-python",
   "name": "python",
   "nbconvert_exporter": "python",
   "pygments_lexer": "ipython3",
   "version": "3.12.7"
  }
 },
 "nbformat": 4,
 "nbformat_minor": 5
}
