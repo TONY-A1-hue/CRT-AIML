{
 "cells": [
  {
   "cell_type": "code",
   "execution_count": 2,
   "id": "65dc1258-b0f0-4850-bfda-0d91db73bae2",
   "metadata": {},
   "outputs": [
    {
     "name": "stdout",
     "output_type": "stream",
     "text": [
      "10 Most Common Words:\n",
      "python: 5\n",
      "and: 5\n",
      "of: 3\n",
      "is: 3\n",
      "the: 2\n",
      "world: 2\n",
      "data: 2\n",
      "can: 2\n",
      "a: 2\n",
      "in: 1\n"
     ]
    },
    {
     "name": "stderr",
     "output_type": "stream",
     "text": [
      "[nltk_data] Downloading package punkt to\n",
      "[nltk_data]     /Users/varikuntlasaimanoj/nltk_data...\n",
      "[nltk_data]   Package punkt is already up-to-date!\n"
     ]
    }
   ],
   "source": [
    "import nltk\n",
    "from nltk.tokenize import word_tokenize\n",
    "from nltk.probability import FreqDist\n",
    "\n",
    "nltk.download('punkt')\n",
    "\n",
    "def process_text_file(file_path):\n",
    "    try:\n",
    "        with open(file_path, 'r') as file:\n",
    "            text = file.read()\n",
    "\n",
    "        tokens = word_tokenize(text)\n",
    "        \n",
    "        words = [word.lower() for word in tokens if word.isalnum()]\n",
    "\n",
    "        freq_dist = FreqDist(words)\n",
    "\n",
    "        print(\"10 Most Common Words:\")\n",
    "        for word, frequency in freq_dist.most_common(10):\n",
    "            print(f\"{word}: {frequency}\")\n",
    "    except FileNotFoundError:\n",
    "        print(\"Error: The file was not found.\")\n",
    "    except Exception as e:\n",
    "        print(f\"An error occurred: {e}\")\n",
    "\n",
    "file_path = \"sample.txt\"  \n",
    "process_text_file(file_path)"
   ]
  },
  {
   "cell_type": "code",
   "execution_count": null,
   "id": "ebb9736f-8602-41ce-8c46-cd2b18550502",
   "metadata": {},
   "outputs": [],
   "source": []
  }
 ],
 "metadata": {
  "kernelspec": {
   "display_name": "Python 3 (ipykernel)",
   "language": "python",
   "name": "python3"
  },
  "language_info": {
   "codemirror_mode": {
    "name": "ipython",
    "version": 3
   },
   "file_extension": ".py",
   "mimetype": "text/x-python",
   "name": "python",
   "nbconvert_exporter": "python",
   "pygments_lexer": "ipython3",
   "version": "3.12.7"
  }
 },
 "nbformat": 4,
 "nbformat_minor": 5
}
