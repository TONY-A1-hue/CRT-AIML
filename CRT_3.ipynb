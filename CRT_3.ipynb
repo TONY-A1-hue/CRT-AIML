{
  "nbformat": 4,
  "nbformat_minor": 0,
  "metadata": {
    "colab": {
      "provenance": []
    },
    "kernelspec": {
      "name": "python3",
      "display_name": "Python 3"
    },
    "language_info": {
      "name": "python"
    }
  },
  "cells": [
    {
      "cell_type": "code",
      "execution_count": 2,
      "metadata": {
        "colab": {
          "base_uri": "https://localhost:8080/"
        },
        "id": "R-OkrXoFhAlY",
        "outputId": "b56d2d5a-6925-4f8e-b49b-3fc2ebbd493f"
      },
      "outputs": [
        {
          "output_type": "stream",
          "name": "stdout",
          "text": [
            "<class 'tuple'>\n"
          ]
        }
      ],
      "source": [
        "a =(1,)\n",
        "result = type(a)\n",
        "print(result)"
      ]
    },
    {
      "cell_type": "code",
      "source": [
        "dictionary = {\"a\" : 3, \"b\" : 5, \"c\" : 9}\n",
        "result = type(dictionary)\n",
        "print(dictionary)\n",
        "print(result)"
      ],
      "metadata": {
        "colab": {
          "base_uri": "https://localhost:8080/"
        },
        "id": "-mBqQzCyhSHy",
        "outputId": "aed4d909-fe4b-4563-ab78-e4fa5e6681c7"
      },
      "execution_count": 4,
      "outputs": [
        {
          "output_type": "stream",
          "name": "stdout",
          "text": [
            "{'a': 3, 'b': 5, 'c': 9}\n",
            "<class 'dict'>\n"
          ]
        }
      ]
    },
    {
      "cell_type": "code",
      "source": [],
      "metadata": {
        "id": "oZLSYTAxkOQn"
      },
      "execution_count": null,
      "outputs": []
    }
  ]
}