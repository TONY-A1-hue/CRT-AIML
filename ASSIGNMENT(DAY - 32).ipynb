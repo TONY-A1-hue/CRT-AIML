{
 "cells": [
  {
   "cell_type": "code",
   "execution_count": 1,
   "id": "d56f0d30-fbd4-4dc3-8fa7-5c4f8d9bf142",
   "metadata": {},
   "outputs": [
    {
     "name": "stdout",
     "output_type": "stream",
     "text": [
      "Top 5 Most Frequent Tokens:\n",
      "python: 3\n",
      "is: 3\n",
      "a: 1\n",
      "great: 1\n",
      "programming: 1\n"
     ]
    }
   ],
   "source": [
    "from collections import Counter\n",
    "import string\n",
    "\n",
    "def load_text(file_path):\n",
    "    try:\n",
    "        with open(file_path, 'r') as file:\n",
    "            return file.read()\n",
    "    except FileNotFoundError:\n",
    "        print(\"Error: File not found.\")\n",
    "        return None\n",
    "\n",
    "def calculate_tf(text):\n",
    "    text = text.lower().translate(str.maketrans('', '', string.punctuation))\n",
    "    tokens = text.split()\n",
    "    token_counts = Counter(tokens)\n",
    "    return token_counts.most_common(5)\n",
    "\n",
    "def display_top_tokens(file_path):\n",
    "    text = load_text(file_path)\n",
    "    if text:\n",
    "        print(\"Top 5 Most Frequent Tokens:\")\n",
    "        for token, count in calculate_tf(text):\n",
    "            print(f\"{token}: {count}\")\n",
    "\n",
    "file_path = \"sample1.txt\"\n",
    "\n",
    "display_top_tokens(file_path)"
   ]
  },
  {
   "cell_type": "code",
   "execution_count": null,
   "id": "0c52f24d-76b7-4d69-a6db-3f26fc5e3cba",
   "metadata": {},
   "outputs": [],
   "source": []
  }
 ],
 "metadata": {
  "kernelspec": {
   "display_name": "Python 3 (ipykernel)",
   "language": "python",
   "name": "python3"
  },
  "language_info": {
   "codemirror_mode": {
    "name": "ipython",
    "version": 3
   },
   "file_extension": ".py",
   "mimetype": "text/x-python",
   "name": "python",
   "nbconvert_exporter": "python",
   "pygments_lexer": "ipython3",
   "version": "3.12.7"
  }
 },
 "nbformat": 4,
 "nbformat_minor": 5
}
